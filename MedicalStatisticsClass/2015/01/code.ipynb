{
 "cells": [
  {
   "cell_type": "markdown",
   "metadata": {},
   "source": [
    "# 01. Fundamental Statistics"
   ]
  },
  {
   "cell_type": "code",
   "execution_count": 1,
   "metadata": {},
   "outputs": [
    {
     "name": "stdout",
     "output_type": "stream",
     "text": [
      "2019-08-23 15:54:12\n",
      "----------------------\n",
      "numpy\t\t1.14.3\n",
      "scipy\t\t1.1.0\n",
      "pandas\t\t0.24.1\n",
      "matplotlib\t3.0.0\n",
      "----------------------\n",
      "ipython\t\t7.2.0\n"
     ]
    }
   ],
   "source": [
    "# import\n",
    "import numpy as np\n",
    "import scipy as sc\n",
    "import pandas as pd\n",
    "import matplotlib\n",
    "import matplotlib.pyplot as plt\n",
    "import IPython\n",
    "\n",
    "from IPython.display import Image\n",
    "%matplotlib inline\n",
    "\n",
    "import datetime\n",
    "dt = datetime.datetime.now()\n",
    "\n",
    "print(\n",
    "\"\"\"{}-{:02d}-{:02d} {:02d}:{:02d}:{:02d}\n",
    "----------------------\n",
    "numpy\\t\\t{}\n",
    "scipy\\t\\t{}\n",
    "pandas\\t\\t{}\n",
    "matplotlib\\t{}\n",
    "----------------------\n",
    "ipython\\t\\t{}\"\"\"\n",
    "    .format(dt.year, dt.month, dt.day, \n",
    "            dt.hour, dt.minute, dt.second, \n",
    "            np.__version__, \n",
    "            scipy.__version__, \n",
    "            pd.__version__, \n",
    "            matplotlib.__version__, \n",
    "            IPython.__version__))\n",
    "\n",
    "c = {'b': '#1f77b4', #blue\n",
    "     'o': '#ff7f0e', #orange\n",
    "     'g': '#2ca02c', #green\n",
    "     'r': '#d62728', #red\n",
    "     'v': '#9467bd', #violet\n",
    "     'br': '#8c564b', #brown\n",
    "     'p': '#e377c2', #pink\n",
    "     'gr': '#7f7f7f', #grey\n",
    "     'y': '#bcbd22', #yellow\n",
    "     'c': '#17becf'} #cyan"
   ]
  },
  {
   "cell_type": "markdown",
   "metadata": {},
   "source": [
    "### 04.01. Two sample test"
   ]
  },
  {
   "cell_type": "code",
   "execution_count": 35,
   "metadata": {},
   "outputs": [
    {
     "data": {
      "image/png": "[encoded data removed]",
      "text/plain": [
       "<Figure size 720x360 with 2 Axes>"
      ]
     },
     "metadata": {
      "needs_background": "light"
     },
     "output_type": "display_data"
    }
   ],
   "source": [
    "np.random.seed(123)\n",
    "\n",
    "x0 = np.random.normal(loc=0.0, scale=3.0, size=3000)\n",
    "x1 = np.random.normal(loc=10.0, scale=1.0, size=3000)\n",
    "\n",
    "y0 = np.random.standard_gamma(shape=2.0, size=3000)\n",
    "y1 = y0 + 10\n",
    "\n",
    "fig, ax = plt.subplots(figsize=(10, 5), ncols=2)\n",
    "counts, bins = np.histogram(x1)\n",
    "\n",
    "ax[0].hist(x0, alpha=.7)\n",
    "ax[0].hist(x1, alpha=.7)\n",
    "ax[1].hist(y0, alpha=.7)\n",
    "ax[1].hist(y1, alpha=.7)\n",
    "plt.tight_layout()\n",
    "plt.savefig('fig/twosampletest.png')\n",
    "plt.show()"
   ]
  },
  {
   "cell_type": "code",
   "execution_count": 25,
   "metadata": {},
   "outputs": [
    {
     "name": "stdout",
     "output_type": "stream",
     "text": [
      "Welcht's\n",
      "t-statistic: -394.46350253340927, p-value: 0.0\n",
      "Mann-Whitney\n",
      "t-statistic: 3532.0, p-value: 0.0\n",
      "Wilcoxon's\n",
      "t-statistic: 0.0, p-value: 0.0\n"
     ]
    }
   ],
   "source": [
    "from scipy import stats\n",
    "\n",
    "stat, pvalue = stats.ttest_ind(x0, x1)\n",
    "print(\"Welcht's\\nt-statistic: {}, p-value: {}\".format(stat, pvalue))\n",
    "\n",
    "stat, pvalue = stats.mannwhitneyu(y0, y1)\n",
    "print(\"Mann-Whitney\\nt-statistic: {}, p-value: {}\".format(stat, pvalue))\n",
    "      \n",
    "stat, pvalue = stats.wilcoxon(y0, y1)\n",
    "print(\"Wilcoxon's\\nt-statistic: {}, p-value: {}\".format(stat, pvalue))"
   ]
  },
  {
   "cell_type": "markdown",
   "metadata": {},
   "source": [
    "### 04.02. More than 3 sample "
   ]
  },
  {
   "cell_type": "code",
   "execution_count": 36,
   "metadata": {},
   "outputs": [
    {
     "data": {
      "image/png": "[encoded data removed]",
      "text/plain": [
       "<Figure size 720x360 with 2 Axes>"
      ]
     },
     "metadata": {
      "needs_background": "light"
     },
     "output_type": "display_data"
    }
   ],
   "source": [
    "np.random.seed(123)\n",
    "\n",
    "x0 = np.random.normal(loc=0.0, scale=1.0, size=3000)\n",
    "x1 = np.random.normal(loc=10.0, scale=1.0, size=3000)\n",
    "x2 = np.random.normal(loc=-10.0, scale=1.0, size=3000)\n",
    "\n",
    "y0 = np.random.standard_gamma(shape=2.0, size=3000)\n",
    "y1 = y0 + 10\n",
    "y2 = y0 - 10\n",
    "\n",
    "fig, ax = plt.subplots(figsize=(10, 5), ncols=2)\n",
    "counts, bins = np.histogram(x1)\n",
    "\n",
    "ax[0].hist(x0, alpha=.7)\n",
    "ax[0].hist(x1, alpha=.7)\n",
    "ax[0].hist(x2, alpha=.7)\n",
    "\n",
    "ax[1].hist(y0, alpha=.7)\n",
    "ax[1].hist(y1, alpha=.7)\n",
    "ax[1].hist(y2, alpha=.7)\n",
    "plt.tight_layout()\n",
    "# plt.savefig('fig/3sampletest.png')\n",
    "plt.show()"
   ]
  },
  {
   "cell_type": "code",
   "execution_count": 37,
   "metadata": {},
   "outputs": [
    {
     "name": "stdout",
     "output_type": "stream",
     "text": [
      "ANOVA\n",
      "t-statistics:302624.322366316, p-value: 0.0\n",
      "Krukal-Wallis test\n",
      "t-statistics: 7997.75852847175, p-value: 0.0\n"
     ]
    }
   ],
   "source": [
    "stat, pvalue = stats.f_oneway(x0, x1, x2)\n",
    "print(\"ANOVA\\nt-statistics:{}, p-value: {}\".format(stat, pvalue))\n",
    "\n",
    "stat, pvalue = stats.kruskal(y0, y1, y2)\n",
    "print(\"Krukal-Wallis test\\nt-statistics: {}, p-value: {}\".format(stat, pvalue))"
   ]
  },
  {
   "cell_type": "code",
   "execution_count": null,
   "metadata": {},
   "outputs": [],
   "source": []
  }
 ],
 "metadata": {
  "kernelspec": {
   "display_name": "Python 3",
   "language": "python",
   "name": "python3"
  },
  "language_info": {
   "codemirror_mode": {
    "name": "ipython",
    "version": 3
   },
   "file_extension": ".py",
   "mimetype": "text/x-python",
   "name": "python",
   "nbconvert_exporter": "python",
   "pygments_lexer": "ipython3",
   "version": "3.6.5"
  }
 },
 "nbformat": 4,
 "nbformat_minor": 2
}
